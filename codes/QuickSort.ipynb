{
 "cells": [
  {
   "cell_type": "code",
   "execution_count": 14,
   "metadata": {},
   "outputs": [
    {
     "name": "stdout",
     "output_type": "stream",
     "text": [
      "[1, 2, 4, 3, 5, 6, 7, 8, 8, 9, 10]\n"
     ]
    }
   ],
   "source": [
    "def swap(inList, p, q):\n",
    "    tmp = inList[p]\n",
    "    inList[p] = inList[q]\n",
    "    inList[q] = tmp\n",
    "            \n",
    "def quickPartition(inList, p, r):\n",
    "    i = p\n",
    "    for j in range(p, r-p):\n",
    "        if inList[j] < inList[r]:\n",
    "            swap(inList, i, j)\n",
    "            i = i+1\n",
    "    \n",
    "    swap(inList, i, r)\n",
    "    return i\n",
    "def quickSort(inList, p, r):\n",
    "    if p >= r:\n",
    "        return\n",
    "    \n",
    "    q = quickPartition(inList, p, r)\n",
    "    quickSort(inList, p, q-1)\n",
    "    quickSort(inList, q+1,r)\n",
    "    \n",
    "inList = [4,7,1,3,6,10,2,5,8,8,9]\n",
    "\n",
    "quickSort(inList, 0, 10)\n",
    "print(inList)"
   ]
  },
  {
   "cell_type": "code",
   "execution_count": null,
   "metadata": {},
   "outputs": [],
   "source": []
  }
 ],
 "metadata": {
  "kernelspec": {
   "display_name": "Python 3",
   "language": "python",
   "name": "python3"
  },
  "language_info": {
   "codemirror_mode": {
    "name": "ipython",
    "version": 3
   },
   "file_extension": ".py",
   "mimetype": "text/x-python",
   "name": "python",
   "nbconvert_exporter": "python",
   "pygments_lexer": "ipython3",
   "version": "3.7.2"
  }
 },
 "nbformat": 4,
 "nbformat_minor": 2
}

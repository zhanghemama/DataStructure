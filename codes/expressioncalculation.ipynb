{
 "cells": [
  {
   "cell_type": "code",
   "execution_count": 13,
   "metadata": {},
   "outputs": [
    {
     "name": "stdout",
     "output_type": "stream",
     "text": [
      "[5, '+', 6, '+', '(', '(', 7, '-', 2, ')', '*', 4, '-', 5, ')', '/', 2]\n"
     ]
    },
    {
     "ename": "TypeError",
     "evalue": "list indices must be integers or slices, not NoneType",
     "output_type": "error",
     "traceback": [
      "\u001b[0;31m---------------------------------------------------------------------------\u001b[0m",
      "\u001b[0;31mTypeError\u001b[0m                                 Traceback (most recent call last)",
      "\u001b[0;32m<ipython-input-13-a8e3c984a2bb>\u001b[0m in \u001b[0;36m<module>\u001b[0;34m()\u001b[0m\n\u001b[1;32m     84\u001b[0m \u001b[0;34m\u001b[0m\u001b[0m\n\u001b[1;32m     85\u001b[0m \u001b[0;34m\u001b[0m\u001b[0m\n\u001b[0;32m---> 86\u001b[0;31m \u001b[0mcomputeExpresstionValue\u001b[0m\u001b[0;34m(\u001b[0m\u001b[0mexpressions\u001b[0m\u001b[0;34m)\u001b[0m\u001b[0;34m\u001b[0m\u001b[0;34m\u001b[0m\u001b[0m\n\u001b[0m",
      "\u001b[0;32m<ipython-input-13-a8e3c984a2bb>\u001b[0m in \u001b[0;36mcomputeExpresstionValue\u001b[0;34m(inExpressions)\u001b[0m\n\u001b[1;32m     67\u001b[0m         \u001b[0;32melse\u001b[0m\u001b[0;34m:\u001b[0m\u001b[0;34m\u001b[0m\u001b[0;34m\u001b[0m\u001b[0m\n\u001b[1;32m     68\u001b[0m             \u001b[0mtopOpt\u001b[0m \u001b[0;34m=\u001b[0m \u001b[0moptStack\u001b[0m\u001b[0;34m.\u001b[0m\u001b[0mgetTop\u001b[0m\u001b[0;34m(\u001b[0m\u001b[0;34m)\u001b[0m\u001b[0;34m\u001b[0m\u001b[0;34m\u001b[0m\u001b[0m\n\u001b[0;32m---> 69\u001b[0;31m             \u001b[0mcompareResult\u001b[0m \u001b[0;34m=\u001b[0m \u001b[0mcompare\u001b[0m\u001b[0;34m(\u001b[0m\u001b[0mtopOpt\u001b[0m\u001b[0;34m,\u001b[0m \u001b[0mitem\u001b[0m\u001b[0;34m)\u001b[0m\u001b[0;34m\u001b[0m\u001b[0;34m\u001b[0m\u001b[0m\n\u001b[0m\u001b[1;32m     70\u001b[0m             \u001b[0;32mif\u001b[0m \u001b[0mcompareResult\u001b[0m \u001b[0;34m==\u001b[0m \u001b[0;34m'<'\u001b[0m\u001b[0;34m:\u001b[0m\u001b[0;34m\u001b[0m\u001b[0;34m\u001b[0m\u001b[0m\n\u001b[1;32m     71\u001b[0m                 \u001b[0moptStack\u001b[0m\u001b[0;34m.\u001b[0m\u001b[0mpush\u001b[0m\u001b[0;34m(\u001b[0m\u001b[0mitem\u001b[0m\u001b[0;34m)\u001b[0m\u001b[0;34m\u001b[0m\u001b[0;34m\u001b[0m\u001b[0m\n",
      "\u001b[0;32m<ipython-input-13-a8e3c984a2bb>\u001b[0m in \u001b[0;36mcompare\u001b[0;34m(preOpt, curOpt)\u001b[0m\n\u001b[1;32m     44\u001b[0m     \u001b[0mi\u001b[0m \u001b[0;34m=\u001b[0m \u001b[0mgetOperatorIndex\u001b[0m\u001b[0;34m(\u001b[0m\u001b[0mpreOpt\u001b[0m\u001b[0;34m)\u001b[0m\u001b[0;34m\u001b[0m\u001b[0;34m\u001b[0m\u001b[0m\n\u001b[1;32m     45\u001b[0m     \u001b[0mj\u001b[0m \u001b[0;34m=\u001b[0m \u001b[0mgetOperatorIndex\u001b[0m\u001b[0;34m(\u001b[0m\u001b[0mcurOpt\u001b[0m\u001b[0;34m)\u001b[0m\u001b[0;34m\u001b[0m\u001b[0;34m\u001b[0m\u001b[0m\n\u001b[0;32m---> 46\u001b[0;31m     \u001b[0;32mreturn\u001b[0m \u001b[0mreferenceTable\u001b[0m\u001b[0;34m[\u001b[0m\u001b[0mi\u001b[0m\u001b[0;34m]\u001b[0m\u001b[0;34m[\u001b[0m\u001b[0mj\u001b[0m\u001b[0;34m]\u001b[0m\u001b[0;34m\u001b[0m\u001b[0;34m\u001b[0m\u001b[0m\n\u001b[0m\u001b[1;32m     47\u001b[0m \u001b[0;34m\u001b[0m\u001b[0m\n\u001b[1;32m     48\u001b[0m \u001b[0;32mdef\u001b[0m \u001b[0mcompute\u001b[0m\u001b[0;34m(\u001b[0m\u001b[0ma\u001b[0m\u001b[0;34m,\u001b[0m\u001b[0mb\u001b[0m\u001b[0;34m,\u001b[0m\u001b[0mopt\u001b[0m\u001b[0;34m)\u001b[0m\u001b[0;34m:\u001b[0m\u001b[0;34m\u001b[0m\u001b[0;34m\u001b[0m\u001b[0m\n",
      "\u001b[0;31mTypeError\u001b[0m: list indices must be integers or slices, not NoneType"
     ]
    }
   ],
   "source": [
    "class EStack():\n",
    "    size = 0\n",
    "    count = 0\n",
    "    items = []\n",
    "    \n",
    "    def __init__(self, size):\n",
    "        self.size = size\n",
    "        self.items = list(range(size))\n",
    "        \n",
    "    def push(self, item):\n",
    "        if self.count == self.size:\n",
    "            return;\n",
    "        self.items[self.count] = item\n",
    "        self.count += 1\n",
    "        \n",
    "    def pop(self):\n",
    "        if self.count > 0:\n",
    "            self.count -= 1\n",
    "            return self.items[count]\n",
    "        \n",
    "    def getTop(self):\n",
    "        if self.count > 0:\n",
    "            return self.items[self.count]\n",
    "        \n",
    "expressions = [5,'+',6,'+','(','(',7,'-',2,')','*',4,'-',5,')','/',2]\n",
    "print(expressions)\n",
    "\n",
    "\n",
    "referenceTable = [['>', '>', '<', '<', '<', '>', '>'], \n",
    "                  ['>', '>', '<', '<', '<', '>', '>'],\n",
    "                  ['>', '>', '>', '>', '<', '>', '>'],\n",
    "                  ['>', '>', '>', '>', '<', '>', '>'], \n",
    "                  ['<', '<', '<', '<', '<', '=', '0'],\n",
    "                  ['>', '>', '>', '>', '0', '>', '>'], \n",
    "                  ['<', '<', '<', '<', '<', '0', '=']]\n",
    "\n",
    "switcher = {'+':0, '-':1, '*':2, '/':3, '(':4, ')':5, '#':6}\n",
    "\n",
    "\n",
    "def getOperatorIndex(operator):\n",
    "    return switcher.get(operator)\n",
    "\n",
    "def compare(preOpt, curOpt):\n",
    "    i = getOperatorIndex(preOpt)\n",
    "    j = getOperatorIndex(curOpt)\n",
    "    return referenceTable[i][j]\n",
    "\n",
    "def compute(a,b,opt):\n",
    "    if (opt == '+'):\n",
    "        return a + b\n",
    "    if (opt == '-'):\n",
    "        return a - b\n",
    "    if (opt == '*'):\n",
    "        return a * b\n",
    "    if (opt == '/'):\n",
    "        return a / b\n",
    "    \n",
    "digitalStack = EStack(10)\n",
    "optStack = EStack(10)\n",
    "optStack.push('#')\n",
    "\n",
    "def computeExpresstionValue(inExpressions):\n",
    "    \n",
    "    for item in inExpressions:\n",
    "        if item not in switcher:\n",
    "            digitalStack.push(item)\n",
    "        else:\n",
    "            topOpt = optStack.getTop()\n",
    "            compareResult = compare(topOpt, item)\n",
    "            if compareResult == '<':\n",
    "                optStack.push(item)\n",
    "            elif compareResult == '>':\n",
    "                while (compareResult == '>'):\n",
    "                    opt = optStack.pop()\n",
    "                    number1 = digitalStack.pop()\n",
    "                    number2 = digitalStack.pop()\n",
    "                    result = compute(number1, number2, opt)\n",
    "                    digitalStack.push(result)\n",
    "                    topOpt = opt.getTop()\n",
    "                    compareResult = compare(topOpt, item)\n",
    "                optStack.push(item)\n",
    "            else:\n",
    "               optStack.pop()\n",
    "            \n",
    "\n",
    "computeExpresstionValue(expressions)"
   ]
  },
  {
   "cell_type": "code",
   "execution_count": null,
   "metadata": {},
   "outputs": [],
   "source": []
  },
  {
   "cell_type": "code",
   "execution_count": null,
   "metadata": {},
   "outputs": [],
   "source": []
  },
  {
   "cell_type": "code",
   "execution_count": null,
   "metadata": {},
   "outputs": [],
   "source": []
  }
 ],
 "metadata": {
  "kernelspec": {
   "display_name": "Python 3",
   "language": "python",
   "name": "python3"
  },
  "language_info": {
   "codemirror_mode": {
    "name": "ipython",
    "version": 3
   },
   "file_extension": ".py",
   "mimetype": "text/x-python",
   "name": "python",
   "nbconvert_exporter": "python",
   "pygments_lexer": "ipython3",
   "version": "3.7.2"
  }
 },
 "nbformat": 4,
 "nbformat_minor": 2
}

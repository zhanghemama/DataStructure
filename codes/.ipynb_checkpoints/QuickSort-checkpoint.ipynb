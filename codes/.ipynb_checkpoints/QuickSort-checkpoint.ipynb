{
 "cells": [
  {
   "cell_type": "code",
   "execution_count": 13,
   "metadata": {},
   "outputs": [
    {
     "name": "stdout",
     "output_type": "stream",
     "text": [
      "swap 0 0\n",
      "swap 1 1\n",
      "swap 2 2\n",
      "swap 3 3\n",
      "swap 4 4\n",
      "swap 5 6\n",
      "swap 6 7\n",
      "swap 7 8\n",
      "swap 8 9\n",
      "swap 0 0\n",
      "swap 1 1\n",
      "swap 2 2\n",
      "swap 3 3\n",
      "swap 4 4\n",
      "swap 5 5\n",
      "swap 6 6\n",
      "swap 0 0\n",
      "swap 1 2\n",
      "swap 2 3\n",
      "swap 3 5\n",
      "swap 0 1\n",
      "[1, 2, 3, 4, 5, 7, 6, 8, 8, 9, 10] 2 3 begin\n",
      "swap 2 3\n",
      "[1, 2, 4, 3, 5, 6, 7, 8, 8, 9, 10]\n"
     ]
    }
   ],
   "source": [
    "def swap(inList, p, q):\n",
    "    tmp = inList[p]\n",
    "    inList[p] = inList[q]\n",
    "    inList[q] = tmp\n",
    "            \n",
    "def quickPartition(inList, p, r):\n",
    "    i = p\n",
    "    if p == 2 and r == 3:\n",
    "        print(inList, p, r, 'begin')\n",
    "    for j in range(p, r-p):\n",
    "        if inList[j] < inList[r]:\n",
    "            if p == 2 and r == 3:\n",
    "               print('swap',i,j)\n",
    "            swap(inList, i, j)\n",
    "            i = i+1\n",
    "    \n",
    "    swap(inList, i, r)\n",
    "    if p == 2 and r == 3:\n",
    "       print('swap',i,r)\n",
    "\n",
    "    return i\n",
    "def quickSort(inList, p, r):\n",
    "    if p >= r:\n",
    "        return\n",
    "    \n",
    "    q = quickPartition(inList, p, r)\n",
    "#     print(inList,inList[q],q,p,r)\n",
    "    quickSort(inList, p, q-1)\n",
    "    quickSort(inList, q+1,r)\n",
    "    \n",
    "inList = [4,7,1,3,6,10,2,5,8,8,9]\n",
    "\n",
    "quickSort(inList, 0, 10)\n",
    "print(inList)"
   ]
  },
  {
   "cell_type": "code",
   "execution_count": 7,
   "metadata": {},
   "outputs": [
    {
     "name": "stdout",
     "output_type": "stream",
     "text": [
      "3\n"
     ]
    }
   ],
   "source": [
    "def swap(inList, p, q):\n",
    "    tmp = inList[p]\n",
    "    inList[p] = inList[q]\n",
    "    inList[q] = tmp\n",
    "            \n",
    "def quickPartition(inList, p, r):\n",
    "    i = p\n",
    "    for j in range(p, r-p):\n",
    "        if inList[j] < inList[r]:\n",
    "            swap(inList, i, j)\n",
    "            i = i+1\n",
    "    \n",
    "    swap(inList, i, r)\n",
    "    return i\n",
    "\n",
    "def queryKthEelement(inList, p, r, k):\n",
    "    \n",
    "    q = quickPartition(inList, p, r)\n",
    "    if q == k:\n",
    "        return inList[q]\n",
    "    if q < k:\n",
    "        return queryKthEelement(inList, q+1, r, k)\n",
    "    if q > k:\n",
    "        return queryKthEelement(inList, p, q-1, k)\n",
    "    \n",
    "inList = [4,7,1,3,6,10,2,5,8,8,9]\n",
    "print(queryKthEelement(inList, 0, 10, 3))"
   ]
  },
  {
   "cell_type": "code",
   "execution_count": null,
   "metadata": {},
   "outputs": [],
   "source": []
  }
 ],
 "metadata": {
  "kernelspec": {
   "display_name": "Python 3",
   "language": "python",
   "name": "python3"
  },
  "language_info": {
   "codemirror_mode": {
    "name": "ipython",
    "version": 3
   },
   "file_extension": ".py",
   "mimetype": "text/x-python",
   "name": "python",
   "nbconvert_exporter": "python",
   "pygments_lexer": "ipython3",
   "version": "3.7.2"
  }
 },
 "nbformat": 4,
 "nbformat_minor": 2
}

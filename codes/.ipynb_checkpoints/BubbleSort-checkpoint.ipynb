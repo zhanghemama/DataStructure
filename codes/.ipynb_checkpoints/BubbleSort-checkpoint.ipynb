{
 "cells": [
  {
   "cell_type": "code",
   "execution_count": 2,
   "metadata": {},
   "outputs": [
    {
     "name": "stdout",
     "output_type": "stream",
     "text": [
      "[1, 2, 3, 4, 5, 6, 7, 8, 8, 9, 10]\n"
     ]
    }
   ],
   "source": [
    "def bubbleSort(inList):\n",
    "    count = len(inList)\n",
    "    exchanged = False\n",
    "    for index in range(count):\n",
    "        exchanged = False\n",
    "        subCount = count - index - 1\n",
    "        for i in range(count - index - 1):\n",
    "            if inList[i] > inList[i+1]:\n",
    "                tmp = inList[i]\n",
    "                inList[i] = inList[i+1]\n",
    "                inList[i+1] = tmp\n",
    "                exchanged = True\n",
    "        if exchanged == False:\n",
    "            break\n",
    "\n",
    "inList = [4,7,1,3,6,10,2,5,8,8,9]\n",
    "bubbleSort(inList)\n",
    "print(inList)"
   ]
  },
  {
   "cell_type": "code",
   "execution_count": null,
   "metadata": {},
   "outputs": [],
   "source": []
  },
  {
   "cell_type": "code",
   "execution_count": null,
   "metadata": {},
   "outputs": [],
   "source": []
  },
  {
   "cell_type": "code",
   "execution_count": null,
   "metadata": {},
   "outputs": [],
   "source": []
  }
 ],
 "metadata": {
  "kernelspec": {
   "display_name": "Python 3",
   "language": "python",
   "name": "python3"
  },
  "language_info": {
   "codemirror_mode": {
    "name": "ipython",
    "version": 3
   },
   "file_extension": ".py",
   "mimetype": "text/x-python",
   "name": "python",
   "nbconvert_exporter": "python",
   "pygments_lexer": "ipython3",
   "version": "3.7.2"
  }
 },
 "nbformat": 4,
 "nbformat_minor": 2
}

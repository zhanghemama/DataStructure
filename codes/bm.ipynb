{
 "cells": [
  {
   "cell_type": "code",
   "execution_count": 14,
   "metadata": {},
   "outputs": [
    {
     "name": "stdout",
     "output_type": "stream",
     "text": [
      "17\n",
      "True\n"
     ]
    }
   ],
   "source": [
    "from typing import List, Tuple\n",
    "\n",
    "SIZE = 256\n",
    "def generateBadCharacterTable(pattern:str) -> List[int]:\n",
    "    badCharacterTable = [-1]*SIZE\n",
    "    \n",
    "    for index,item in enumerate(pattern):\n",
    "        badCharacterTable[ord(item)] = index\n",
    "        \n",
    "    return badCharacterTable\n",
    "\n",
    "def generateGoodSuffixTable(pattern:str):\n",
    "    suffix = [-1]*SIZE\n",
    "    prefix = [False]*SIZE\n",
    "    length = len(pattern)\n",
    "    \n",
    "    for i in range(0,length-1):\n",
    "        suffixLength = 0\n",
    "        j = i\n",
    "        while j >=0 and pattern[length-1-suffixLength] == pattern[j]:\n",
    "            j -= 1\n",
    "            suffixLength += 1\n",
    "            suffix[suffixLength] = j+1\n",
    "        \n",
    "        if j == -1:\n",
    "            prefix[suffixLength-1] = True\n",
    "            \n",
    "    return (prefix, suffix)\n",
    "     \n",
    "def moveByGoodSuffix(badCharacterIndex:int, suffix:List, prefix:List):\n",
    "    patternLength = len(suffix)\n",
    "    goodSuffixLength = patternLength - 1 - badCharacterIndex\n",
    "    \n",
    "    if suffix[goodSuffixLength] != -1:\n",
    "            return badCharacterIndex + 1 - suffix[goodSuffixLength]    \n",
    "        \n",
    "    for r in range(badCharacterIndex+2, patternLength):\n",
    "        if prefix[patternLength-r]:\n",
    "            return r\n",
    "    \n",
    "    return patternLength\n",
    "\n",
    "\n",
    "def bm(main:str, pattern:str):\n",
    "    \n",
    "    badCharacterTable = generateBadCharacterTable(pattern)\n",
    "    prefix, suffix = generateGoodSuffixTable(pattern)\n",
    "    \n",
    "    mainLength = len(main)\n",
    "    patternLength = len(pattern)\n",
    "    \n",
    "    for i in range(mainLength - patternLength + 1):\n",
    "        for j in reversed(range(0,patternLength)):\n",
    "            if main[i+j] != pattern[j]:\n",
    "                break\n",
    "            if j <= 0:\n",
    "                return i\n",
    "        i = j - badCharacterTable[ord(main[i+j])]\n",
    "        y = moveByGoodSuffix(j, suffix, prefix)\n",
    "        i = max(i, y)\n",
    "        \n",
    "    return -1\n",
    "       \n",
    "    \n",
    "if __name__ == \"__main__\":\n",
    "\n",
    "    s = \"Here is a simple example\"\n",
    "    pattern = \"example\"\n",
    "    print(bm(s, pattern))\n",
    "\n",
    "    s = \"abcdcccdc\"\n",
    "    pattern = \"cccd\"\n",
    "    print(s.find(pattern) == bm(s, pattern))"
   ]
  },
  {
   "cell_type": "code",
   "execution_count": null,
   "metadata": {},
   "outputs": [],
   "source": []
  }
 ],
 "metadata": {
  "kernelspec": {
   "display_name": "Python 3",
   "language": "python",
   "name": "python3"
  },
  "language_info": {
   "codemirror_mode": {
    "name": "ipython",
    "version": 3
   },
   "file_extension": ".py",
   "mimetype": "text/x-python",
   "name": "python",
   "nbconvert_exporter": "python",
   "pygments_lexer": "ipython3",
   "version": "3.7.2"
  }
 },
 "nbformat": 4,
 "nbformat_minor": 2
}

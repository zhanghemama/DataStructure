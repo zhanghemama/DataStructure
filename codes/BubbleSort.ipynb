{
 "cells": [
  {
   "cell_type": "code",
   "execution_count": 31,
   "metadata": {},
   "outputs": [
    {
     "name": "stdout",
     "output_type": "stream",
     "text": [
      "11\n",
      "[4, 1, 3, 6, 7, 2, 5, 8, 8, 9, 10]\n",
      "[1, 3, 4, 6, 2, 5, 7, 8, 8, 9, 10]\n",
      "[1, 3, 4, 2, 5, 6, 7, 8, 8, 9, 10]\n",
      "[1, 3, 2, 4, 5, 6, 7, 8, 8, 9, 10]\n",
      "[1, 2, 3, 4, 5, 6, 7, 8, 8, 9, 10]\n",
      "[1, 2, 3, 4, 5, 6, 7, 8, 8, 9, 10]\n"
     ]
    }
   ],
   "source": [
    "def bubbleSort(list):\n",
    "    count = len(list)\n",
    "    print(count)\n",
    "    exchanged = False\n",
    "    for index in range(count):\n",
    "        exchanged = False\n",
    "        subCount = count - index - 1\n",
    "        for i in range(count - index - 1):\n",
    "            if list[i] > list[i+1]:\n",
    "                tmp = list[i]\n",
    "                list[i] = list[i+1]\n",
    "                list[i+1] = tmp\n",
    "                exchanged = True\n",
    "        if exchanged == False:\n",
    "            break\n",
    "        print(list)\n",
    "\n",
    "list = [4,7,1,3,6,10,2,5,8,8,9]\n",
    "bubbleSort(list)\n",
    "print(list)"
   ]
  },
  {
   "cell_type": "code",
   "execution_count": null,
   "metadata": {},
   "outputs": [],
   "source": []
  },
  {
   "cell_type": "code",
   "execution_count": null,
   "metadata": {},
   "outputs": [],
   "source": []
  },
  {
   "cell_type": "code",
   "execution_count": null,
   "metadata": {},
   "outputs": [],
   "source": []
  }
 ],
 "metadata": {
  "kernelspec": {
   "display_name": "Python 3",
   "language": "python",
   "name": "python3"
  },
  "language_info": {
   "codemirror_mode": {
    "name": "ipython",
    "version": 3
   },
   "file_extension": ".py",
   "mimetype": "text/x-python",
   "name": "python",
   "nbconvert_exporter": "python",
   "pygments_lexer": "ipython3",
   "version": "3.7.2"
  }
 },
 "nbformat": 4,
 "nbformat_minor": 2
}

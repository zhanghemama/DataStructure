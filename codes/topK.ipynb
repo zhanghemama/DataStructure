{
 "cells": [
  {
   "cell_type": "code",
   "execution_count": 16,
   "metadata": {},
   "outputs": [
    {
     "name": "stdout",
     "output_type": "stream",
     "text": [
      "0:00:00.330459\n",
      "0:00:00.143395\n",
      "['18610311000', '18610311000', '18610311000', '18610311000', '18610311000', '18610311000', '18610311000', '18610311000', '18610311000', '18610311000', '18610311000', '18610311000', '18610311000', '18610311000', '18610311000', '18610311000', '18610311000', '18610311000', '18610311000', '18610311000', '18610311000', '18610311000', '18610311000', '18610311000', '18610311000', '18610311000', '18610311000', '18610311000', '18610311000', '18610311000', '18610311000', '18610311000', '18610311000', '18610311000', '18610311000', '18610311000', '18610311000', '18610311000', '18610311000', '18610311000', '18610311000', '18610311000', '18610311000', '18610311000', '18610311000', '18610311000', '18610311000', '18610311000', '18610311000', '18610310999', '18610311000', '18610311000', '18610311000', '18610311000', '18610311000', '18610311000', '18610311000', '18610311000', '18610311000', '18610311000', '18610311000', '18610311000', '18610311000', '18610311000', '18610311000', '18610311000', '18610311000', '18610311000', '18610311000', '18610311000', '18610311000', '18610311000', '18610311000', '18610311000', '18610311000', '18610311000', '18610311000', '18610311000', '18610311000', '18610311000', '18610311000', '18610311000', '18610311000', '18610311000', '18610311000', '18610311000', '18610311000', '18610311000', '18610311000', '18610311000', '18610311000', '18610311000', '18610311000', '18610311000', '18610311000', '18610311000', '18610311000', '18610311000', '18610311000', '18610311000']\n"
     ]
    }
   ],
   "source": [
    "from heapSort import BinaryHeap\n",
    "import datetime\n",
    "\n",
    "def topK():\n",
    "    BinaryHeap.HEAPTYPE = '>'\n",
    "    smallHeap = BinaryHeap(100)\n",
    "    fileName = './phone1.txt'\n",
    "    phoneNumbers = []\n",
    "    \n",
    "    start = datetime.datetime.now()\n",
    "    with open(fileName, mode='r', encoding='utf-8') as file:\n",
    "        for line in file:\n",
    "            if line != \"\":\n",
    "                s = line.strip('\\n')\n",
    "                phoneNumbers.append(s)\n",
    "    end = datetime.datetime.now()\n",
    "    print(end - start)\n",
    "    \n",
    "    start = datetime.datetime.now()\n",
    "    for phoneNumber in phoneNumbers:\n",
    "        if smallHeap.length < 100:\n",
    "            smallHeap.insert(phoneNumber)\n",
    "        else:\n",
    "            topElement = smallHeap.data[1]\n",
    "            if topElement < phoneNumber:\n",
    "                smallHeap.deleteMax()\n",
    "                smallHeap.insert(phoneNumber)\n",
    "    end = datetime.datetime.now()\n",
    "    print(end - start)\n",
    "    print(smallHeap)\n",
    "    \n",
    "if __name__ == '__main__':\n",
    "    topK()\n",
    "    "
   ]
  },
  {
   "cell_type": "code",
   "execution_count": null,
   "metadata": {},
   "outputs": [],
   "source": []
  }
 ],
 "metadata": {
  "kernelspec": {
   "display_name": "Python 3",
   "language": "python",
   "name": "python3"
  },
  "language_info": {
   "codemirror_mode": {
    "name": "ipython",
    "version": 3
   },
   "file_extension": ".py",
   "mimetype": "text/x-python",
   "name": "python",
   "nbconvert_exporter": "python",
   "pygments_lexer": "ipython3",
   "version": "3.7.2"
  }
 },
 "nbformat": 4,
 "nbformat_minor": 2
}

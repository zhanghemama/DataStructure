{
 "cells": [
  {
   "cell_type": "code",
   "execution_count": 11,
   "metadata": {},
   "outputs": [
    {
     "name": "stdout",
     "output_type": "stream",
     "text": [
      "请输入你要产生的手机号个数1000000\n"
     ]
    }
   ],
   "source": [
    "import random\n",
    "f = open('phone.txt','w')\n",
    "num = input('请输入你要产生的手机号个数')\n",
    "for i in range(int(num)):\n",
    "    start = '1861031'\n",
    "    end = random.randint(1,1000)#随机产生1-1000的数字\n",
    "    end_s = str(end).zfill(4)#指定四位，不足四位前面补零\n",
    "    phone = start+end_s+'\\n'\n",
    "    f.write(phone)\n",
    "f.close()#文件有打开就要有关闭"
   ]
  },
  {
   "cell_type": "code",
   "execution_count": null,
   "metadata": {},
   "outputs": [],
   "source": []
  }
 ],
 "metadata": {
  "kernelspec": {
   "display_name": "Python 3",
   "language": "python",
   "name": "python3"
  },
  "language_info": {
   "codemirror_mode": {
    "name": "ipython",
    "version": 3
   },
   "file_extension": ".py",
   "mimetype": "text/x-python",
   "name": "python",
   "nbconvert_exporter": "python",
   "pygments_lexer": "ipython3",
   "version": "3.7.2"
  }
 },
 "nbformat": 4,
 "nbformat_minor": 2
}

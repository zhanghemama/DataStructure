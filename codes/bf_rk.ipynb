{
 "cells": [
  {
   "cell_type": "code",
   "execution_count": 14,
   "metadata": {},
   "outputs": [
    {
     "name": "stdout",
     "output_type": "stream",
     "text": [
      "--- time consume ---\n",
      "[bf] result: -1\n",
      "[bf] time cost: 0.2924s\n",
      "[bf] result: 0\n",
      "[bf] time cost: 3.624e-05s\n",
      "\n",
      "--- search ---\n",
      "[bf] result: 0\n",
      "[rk] result: 0\n"
     ]
    }
   ],
   "source": [
    "from typing import Optional\n",
    "from time import time\n",
    "\n",
    "def bf(main, pattern):\n",
    "    n = len(main)\n",
    "    m = len(pattern)\n",
    "    \n",
    "    if n <= m:\n",
    "        return 0 if main == pattern else -1\n",
    "    \n",
    "    for i in range(n-m+1):\n",
    "        for j in range(m):\n",
    "            if main[i+j] != pattern[j]:\n",
    "                break\n",
    "            if j == m-1:\n",
    "                return 0\n",
    "            \n",
    "            \n",
    "    return -1\n",
    "\n",
    "def simpleHash(s, start:int, end:int):\n",
    "    \n",
    "    assert start <= end\n",
    "    \n",
    "    ret = 0\n",
    "    for c in s[start: end]:\n",
    "        ret += ord(c)\n",
    "        \n",
    "    return ret\n",
    "\n",
    "def rk(main, pattern):\n",
    "    \n",
    "    n = len(main)\n",
    "    m = len(pattern)\n",
    "    \n",
    "    if n <= m:\n",
    "        return 0 if main == pattern else -1\n",
    "    \n",
    "    patternHashValue = simpleHash(pattern,0,m)\n",
    "    \n",
    "    for i in range(n-m+1):\n",
    "        simpleHashValue = simpleHash(main, i, i+m)\n",
    "        if simpleHashValue == patternHashValue:\n",
    "            for j in range(m):\n",
    "                if main[i+j] != pattern[j]:\n",
    "                    return -1\n",
    "                if j == m-1:\n",
    "                    return 0\n",
    "    return -1       \n",
    "\n",
    "if __name__ == '__main__':\n",
    "    m_str = 'a'*10000\n",
    "    p_str = 'a'*200+'b'\n",
    "    q_str = 'a'*100\n",
    "    \n",
    "    print('--- time consume ---')\n",
    "    t = time()\n",
    "    print('[bf] result:', bf(m_str, p_str))\n",
    "    print('[bf] time cost: {0:.5}s'.format(time()-t))\n",
    "    t = time()\n",
    "    print('[bf] result:', bf(m_str, q_str))\n",
    "    print('[bf] time cost: {0:.5}s'.format(time()-t))\n",
    "    \n",
    "    print('')\n",
    "    print('--- search ---')\n",
    "    m_str = 'thequickbrownfoxjumpsoverthelazydog'\n",
    "    p_str = 'jump'\n",
    "    print('[bf] result:', bf(m_str, p_str))\n",
    "    print('[rk] result:', rk(m_str, p_str))"
   ]
  },
  {
   "cell_type": "code",
   "execution_count": null,
   "metadata": {},
   "outputs": [],
   "source": []
  }
 ],
 "metadata": {
  "kernelspec": {
   "display_name": "Python 3",
   "language": "python",
   "name": "python3"
  },
  "language_info": {
   "codemirror_mode": {
    "name": "ipython",
    "version": 3
   },
   "file_extension": ".py",
   "mimetype": "text/x-python",
   "name": "python",
   "nbconvert_exporter": "python",
   "pygments_lexer": "ipython3",
   "version": "3.7.2"
  }
 },
 "nbformat": 4,
 "nbformat_minor": 2
}

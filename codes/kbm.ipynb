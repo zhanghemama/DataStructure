{
 "cells": [
  {
   "cell_type": "code",
   "execution_count": 6,
   "metadata": {},
   "outputs": [
    {
     "name": "stdout",
     "output_type": "stream",
     "text": [
      "17\n",
      "True\n",
      "11\n"
     ]
    }
   ],
   "source": [
    "def getNexts(pattern:str):\n",
    "    length = len(pattern)\n",
    "    nexts = [-1]*length\n",
    "    prefixLength = -1\n",
    "    \n",
    "    for i in range(1,length):\n",
    "        while prefixLength != -1 and pattern[prefixLength+1] != pattern[i]:\n",
    "           prefixLength = nexts[prefixLength]\n",
    "        \n",
    "        if pattern[prefixLength+1] == pattern[i]:\n",
    "            prefixLength += 1\n",
    "            \n",
    "        nexts[i] = prefixLength\n",
    "        \n",
    "    return nexts\n",
    "\n",
    "def kbm(main:str, pattern:str):\n",
    "    nexts = getNexts(pattern)\n",
    "    \n",
    "    mainLength = len(main)\n",
    "    patternLength = len(pattern)\n",
    "    \n",
    "    j = 0\n",
    "    for i in range(mainLength):\n",
    "        while j > 0 and pattern[j] != main[i]:\n",
    "            j = nexts[j-1] + 1\n",
    "        \n",
    "        if pattern[j] == main[i]:\n",
    "            j += 1\n",
    "            \n",
    "        if j == patternLength:\n",
    "            return i - j + 1\n",
    "        \n",
    "    return -1\n",
    "    \n",
    "    \n",
    "if __name__ == \"__main__\":\n",
    "\n",
    "    s = \"Here is a simple example\"\n",
    "    pattern = \"example\"\n",
    "    print(kbm(s, pattern))\n",
    "\n",
    "    s = \"abcdcccdc\"\n",
    "    pattern = \"cccd\"\n",
    "    print(s.find(pattern) == kbm(s, pattern))\n",
    "    \n",
    "    s = \"huizhen test huizhen test1\"\n",
    "    pattern = \"t huizhen\"\n",
    "    print(kbm(s, pattern))\n"
   ]
  },
  {
   "cell_type": "code",
   "execution_count": null,
   "metadata": {},
   "outputs": [],
   "source": []
  }
 ],
 "metadata": {
  "kernelspec": {
   "display_name": "Python 3",
   "language": "python",
   "name": "python3"
  },
  "language_info": {
   "codemirror_mode": {
    "name": "ipython",
    "version": 3
   },
   "file_extension": ".py",
   "mimetype": "text/x-python",
   "name": "python",
   "nbconvert_exporter": "python",
   "pygments_lexer": "ipython3",
   "version": "3.7.2"
  }
 },
 "nbformat": 4,
 "nbformat_minor": 2
}

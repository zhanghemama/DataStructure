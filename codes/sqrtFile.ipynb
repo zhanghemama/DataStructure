{
 "cells": [
  {
   "cell_type": "code",
   "execution_count": 26,
   "metadata": {},
   "outputs": [
    {
     "name": "stdout",
     "output_type": "stream",
     "text": [
      "8.0\n"
     ]
    }
   ],
   "source": [
    "def sqrt(x):\n",
    "    low= 0\n",
    "    up = x\n",
    "    mid = (low + up) / 2\n",
    "    \n",
    "    while abs(mid*mid-x) > 0.000001:\n",
    "        if mid*mid == x:\n",
    "            return mid\n",
    "        \n",
    "        if mid*mid > x:\n",
    "            up = mid\n",
    "        if mid*mid < x:\n",
    "            low = mid\n",
    "        \n",
    "        mid = (low + up) / 2\n",
    "\n",
    "    return mid\n",
    "\n",
    "print(sqrt(64))"
   ]
  },
  {
   "cell_type": "code",
   "execution_count": null,
   "metadata": {},
   "outputs": [],
   "source": []
  },
  {
   "cell_type": "code",
   "execution_count": null,
   "metadata": {},
   "outputs": [],
   "source": []
  }
 ],
 "metadata": {
  "kernelspec": {
   "display_name": "Python 3",
   "language": "python",
   "name": "python3"
  },
  "language_info": {
   "codemirror_mode": {
    "name": "ipython",
    "version": 3
   },
   "file_extension": ".py",
   "mimetype": "text/x-python",
   "name": "python",
   "nbconvert_exporter": "python",
   "pygments_lexer": "ipython3",
   "version": "3.7.2"
  }
 },
 "nbformat": 4,
 "nbformat_minor": 2
}

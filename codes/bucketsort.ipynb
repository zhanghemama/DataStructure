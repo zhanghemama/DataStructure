{
 "cells": [
  {
   "cell_type": "code",
   "execution_count": 50,
   "metadata": {},
   "outputs": [],
   "source": [
    "import random\n",
    "\n",
    "def swap(inList, p, q):\n",
    "    tmp = inList[p]\n",
    "    inList[p] = inList[q]\n",
    "    inList[q] = tmp\n",
    "            \n",
    "def quickPartition(inList, p, r):\n",
    "    i = p\n",
    "    for j in range(p, r-p):\n",
    "        if inList[j] < inList[r]:\n",
    "            swap(inList, i, j)\n",
    "            i = i+1\n",
    "    \n",
    "    if inList[i] > inList[r]:\n",
    "        swap(inList, i, r)\n",
    "\n",
    "    return i\n",
    "\n",
    "def quickSort(inList, p, r):\n",
    "    if p >= r:\n",
    "        return\n",
    "    \n",
    "    q = quickPartition(inList, p, r)\n",
    "    quickSort(inList, p, q-1)\n",
    "    quickSort(inList, q+1,r)\n",
    "    \n",
    "def getBucketIndex(age):\n",
    "    return age - 1\n",
    "\n",
    "  \n",
    "inList = [random.randint(1,120) for x in range(0,100000)]\n",
    "buckets = []\n",
    "for x in range(0, 120):\n",
    "    buckets.append([])\n",
    "\n",
    "for x in inList:\n",
    "    buckets[getBucketIndex(x)].append(x)\n",
    "    \n",
    "outBuckets = []\n",
    "for x in range(0, 120):\n",
    "    [outBuckets.append(y) for y in buckets[x]]\n"
   ]
  },
  {
   "cell_type": "code",
   "execution_count": null,
   "metadata": {},
   "outputs": [],
   "source": []
  },
  {
   "cell_type": "code",
   "execution_count": null,
   "metadata": {},
   "outputs": [],
   "source": []
  }
 ],
 "metadata": {
  "kernelspec": {
   "display_name": "Python 3",
   "language": "python",
   "name": "python3"
  },
  "language_info": {
   "codemirror_mode": {
    "name": "ipython",
    "version": 3
   },
   "file_extension": ".py",
   "mimetype": "text/x-python",
   "name": "python",
   "nbconvert_exporter": "python",
   "pygments_lexer": "ipython3",
   "version": "3.7.2"
  }
 },
 "nbformat": 4,
 "nbformat_minor": 2
}

{
 "cells": [
  {
   "cell_type": "code",
   "execution_count": 32,
   "metadata": {},
   "outputs": [
    {
     "name": "stdout",
     "output_type": "stream",
     "text": [
      "[1, 32, 37, 43, 54, 61, 86, 87, 107, 109]\n"
     ]
    }
   ],
   "source": [
    "import random\n",
    "import copy\n",
    "\n",
    "def getIndex(x):\n",
    "    return x - 1\n",
    "\n",
    "def countingSort(inList ,n):\n",
    "    if n <=1 :\n",
    "        return\n",
    "    \n",
    "    max = inList[0]\n",
    "    for x in inList:\n",
    "        if x > max:\n",
    "            max = x\n",
    "    \n",
    "    countingList = [0]*max\n",
    "        \n",
    "    for x in inList:\n",
    "        countingList[getIndex(x)] = countingList[getIndex(x)] + 1\n",
    "        \n",
    "    for x in range(1,max):\n",
    "        countingList[x] = countingList[x] + countingList[x-1]\n",
    "    \n",
    "    tmp = [0]*len(inList)\n",
    "        \n",
    "    for x in inList[::-1]:\n",
    "        tmp[countingList[getIndex(x)]-1] = x\n",
    "        countingList[getIndex(x)] = countingList[getIndex(x)] - 1\n",
    "    \n",
    "    for x in range(len(tmp)):\n",
    "        inList[x] = tmp[x]\n",
    "        \n",
    "inList = [random.randint(1,120) for x in range(0,10)]\n",
    "countingSort(inList, 10)\n",
    "print(inList)"
   ]
  },
  {
   "cell_type": "code",
   "execution_count": null,
   "metadata": {},
   "outputs": [],
   "source": []
  }
 ],
 "metadata": {
  "kernelspec": {
   "display_name": "Python 3",
   "language": "python",
   "name": "python3"
  },
  "language_info": {
   "codemirror_mode": {
    "name": "ipython",
    "version": 3
   },
   "file_extension": ".py",
   "mimetype": "text/x-python",
   "name": "python",
   "nbconvert_exporter": "python",
   "pygments_lexer": "ipython3",
   "version": "3.7.2"
  }
 },
 "nbformat": 4,
 "nbformat_minor": 2
}

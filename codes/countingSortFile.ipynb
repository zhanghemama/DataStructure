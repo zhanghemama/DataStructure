{
 "cells": [
  {
   "cell_type": "code",
   "execution_count": 7,
   "metadata": {},
   "outputs": [
    {
     "name": "stdout",
     "output_type": "stream",
     "text": [
      "[106, 93, 6, 73, 103, 41, 82, 86, 75, 81]\n",
      "None\n",
      "[6, 41, 73, 75, 81, 82, 86, 93, 103, 106]\n"
     ]
    }
   ],
   "source": [
    "\n",
    "import random\n",
    "import datetime\n",
    "import itertools\n",
    "\n",
    "class CountingSort():\n",
    "    \n",
    "    def sort(self,inList):\n",
    "        if len(inList) <=1:\n",
    "            return\n",
    "        \n",
    "        countingList = [0]*(max(inList)+1)\n",
    "        \n",
    "        for x in inList:\n",
    "            countingList[(int)(x)] += 1\n",
    "        \n",
    "        countingList = list(itertools.accumulate(countingList))\n",
    "    \n",
    "        tmp = [0]*len(inList)\n",
    "        \n",
    "        for x in reversed(inList):\n",
    "            tmp[countingList[(int)(x)]-1] = x\n",
    "            countingList[(int)(x)] -= 1\n",
    "    \n",
    "        inList[:] = tmp\n",
    "\n",
    "    def sortViaBitIndex(self,inList ,bitIndex):\n",
    "    \n",
    "        max = 9\n",
    "        countingList = [0]*(max+1)\n",
    "        print(countingList)\n",
    "\n",
    "        for x in inList:\n",
    "            countingList[(int)(x[bitIndex])] += 1\n",
    "        countingList = list(itertools.accumulate(countingList))\n",
    "    \n",
    "        tmp = [0]*len(inList)\n",
    "        \n",
    "        for x in reversed(inList):\n",
    "            tmp[countingList[(int)(x[bitIndex])]-1] = x\n",
    "            countingList[(int)(x[bitIndex])] -= 1\n",
    "\n",
    "        inList[:] = tmp\n",
    "  \n",
    "if __name__ == \"__main__\":\n",
    "    inList = [random.randint(1,120) for x in range(0,10)]\n",
    "    print(inList)\n",
    "    sorter = CountingSort()\n",
    "    print(sorter.sort(inList))\n",
    "    print(inList)\n"
   ]
  },
  {
   "cell_type": "code",
   "execution_count": null,
   "metadata": {},
   "outputs": [],
   "source": []
  }
 ],
 "metadata": {
  "kernelspec": {
   "display_name": "Python 3",
   "language": "python",
   "name": "python3"
  },
  "language_info": {
   "codemirror_mode": {
    "name": "ipython",
    "version": 3
   },
   "file_extension": ".py",
   "mimetype": "text/x-python",
   "name": "python",
   "nbconvert_exporter": "python",
   "pygments_lexer": "ipython3",
   "version": "3.7.2"
  }
 },
 "nbformat": 4,
 "nbformat_minor": 2
}

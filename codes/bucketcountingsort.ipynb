{
 "cells": [
  {
   "cell_type": "code",
   "execution_count": 2,
   "metadata": {},
   "outputs": [
    {
     "name": "stdout",
     "output_type": "stream",
     "text": [
      "0:00:12.988723\n"
     ]
    }
   ],
   "source": [
    "import os\n",
    "import datetime\n",
    "from countingsortFile import CountingSort\n",
    "from bucketsortFile import BucketSort\n",
    "\n",
    "fileNames = ['./phone1.txt', './phone2.txt', './phone3.txt']\n",
    "\n",
    "class PhoneNumbersBucketSort():\n",
    "    \n",
    "    def bucketSort(self,phoneNumbers):\n",
    "        sorter = BucketSort(10)\n",
    "        for index in range(3):\n",
    "            sorter.sortViaBitIndex(phoneNumbers, 10-index)\n",
    "    \n",
    "def sortFilesTogether():\n",
    "    phoneNumbers = []\n",
    "    \n",
    "    for fileName in fileNames:\n",
    "        with open(fileName, mode='r', encoding='utf-8') as file:\n",
    "            for line in file:\n",
    "                s = line.strip('\\n')\n",
    "                phoneNumbers.append(s)\n",
    "    baseSort(phoneNumbers)\n",
    "    writeBack('./output.txt', phoneNumbers)\n",
    "    \n",
    "def baseSort(phoneNumbers):\n",
    "    sorter = CountingSort()\n",
    "    for index in range(3):\n",
    "        sorter.sortViaBitIndex(phoneNumbers, 10-index)\n",
    "\n",
    "def writeBack(fileName, phoneNumbers):\n",
    "    \n",
    "    with open(fileName, mode='a') as file:\n",
    "        for line in phoneNumbers:\n",
    "            file.writelines(line+'\\n')\n",
    "    \n",
    "def sortUsingBucket():\n",
    "    \n",
    "    phoneNumbers = []\n",
    "    \n",
    "    for fileName in fileNames:\n",
    "        with open(fileName, mode='r', encoding='utf-8') as file:\n",
    "            for line in file:\n",
    "                s = line.strip('\\n')\n",
    "                phoneNumbers.append(s)\n",
    "         \n",
    "    sorter = PhoneNumbersBucketSort()\n",
    "    sorter.bucketSort(phoneNumbers)\n",
    "    writeBack('./output.txt', phoneNumbers)\n",
    "\n",
    "    \n",
    "start = datetime.datetime.now()\n",
    "sortUsingBucket()\n",
    "# sortFilesTogether()\n",
    "end = datetime.datetime.now()\n",
    "\n",
    "print(end - start)"
   ]
  },
  {
   "cell_type": "code",
   "execution_count": null,
   "metadata": {},
   "outputs": [],
   "source": []
  },
  {
   "cell_type": "code",
   "execution_count": null,
   "metadata": {},
   "outputs": [],
   "source": []
  },
  {
   "cell_type": "code",
   "execution_count": null,
   "metadata": {},
   "outputs": [],
   "source": []
  }
 ],
 "metadata": {
  "kernelspec": {
   "display_name": "Python 3",
   "language": "python",
   "name": "python3"
  },
  "language_info": {
   "codemirror_mode": {
    "name": "ipython",
    "version": 3
   },
   "file_extension": ".py",
   "mimetype": "text/x-python",
   "name": "python",
   "nbconvert_exporter": "python",
   "pygments_lexer": "ipython3",
   "version": "3.7.2"
  }
 },
 "nbformat": 4,
 "nbformat_minor": 2
}

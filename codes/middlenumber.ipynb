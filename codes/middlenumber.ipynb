{
 "cells": [
  {
   "cell_type": "code",
   "execution_count": 15,
   "metadata": {},
   "outputs": [
    {
     "name": "stdout",
     "output_type": "stream",
     "text": [
      "[495, 453, 483, 324, 452, 467, 256, 286, 321, 370, 446, 454, 221, 226, 252, 157, 278, 292, 311, 197, 360, 379, 446, 225, 262, 69, 209, 52, 138, 120, 233, 33, 117, 71, 208, 47, 151, 146, 308, 45, 172, 81, 335, 81, 187, 185, 398, 42, 144, 120]\n",
      "[500, 500, 514, 528, 548, 554, 627, 643, 645, 649, 664, 665, 695, 707, 708, 715, 726, 731, 733, 739, 744, 750, 771, 774, 783, 784, 802, 814, 821, 822, 828, 832, 832, 836, 842, 850, 869, 910, 917, 918, 936, 936, 939, 942, 955, 959, 977, 979, 991, 998]\n",
      "495\n",
      "[495, 453, 483, 324, 452, 467, 256, 286, 321, 370, 446, 454, 221, 226, 252, 157, 278, 292, 311, 197, 360, 379, 446, 225, 262, 69, 209, 52, 138, 120, 233, 33, 117, 71, 208, 47, 151, 146, 308, 45, 172, 81, 335, 81, 187, 185, 398, 42, 144, 120, 417, 418]\n",
      "[500, 500, 514, 528, 548, 554, 627, 643, 645, 649, 664, 665, 695, 707, 708, 715, 726, 731, 733, 739, 744, 750, 771, 774, 783, 784, 802, 814, 821, 822, 828, 832, 832, 836, 842, 850, 869, 910, 917, 918, 936, 936, 939, 942, 955, 959, 977, 979, 991, 998]\n",
      "495\n"
     ]
    }
   ],
   "source": [
    "from typing import Optional\n",
    "from heapSort import BinaryHeap\n",
    "import random\n",
    "\n",
    "def insertSort(inList:list):\n",
    "    count = len(inList)\n",
    "    for i in range(1,count):\n",
    "        value = inList[i]\n",
    "        j = 0\n",
    "        for j in reversed(range(i)):\n",
    "            if inList[j] > value:\n",
    "                inList[j+1] = inList[j]\n",
    "            else:\n",
    "                j = j + 1\n",
    "                break\n",
    "        inList[j] = value\n",
    "        \n",
    "def randomNumbers(count:int):\n",
    "    numbers = [0]*count\n",
    "    for i in range(int(count)):\n",
    "        numbers[i] = random.randint(1,1000)\n",
    "    insertSort(numbers)\n",
    "    return numbers\n",
    "\n",
    "\n",
    "def getMiddleNumber(sortedNumbers:list):\n",
    "    smallHeapCount:int = 0\n",
    "    if len(sortedNumbers) % 2 == 0:\n",
    "        smallHeapCount = (int)(len(sortedNumbers)) // 2\n",
    "    else:\n",
    "        smallHeapCount = (int)(len(sortedNumbers)) // 2 + 1\n",
    "\n",
    "    BinaryHeap.HEAPTYPE = '<'\n",
    "    bigHeap = BinaryHeap(100)\n",
    "    for i in range(0,smallHeapCount):\n",
    "        bigHeap.insert(sortedNumbers[i])\n",
    "    print(bigHeap)\n",
    "    \n",
    "    BinaryHeap.HEAPTYPE = '>'\n",
    "    smallHeap = BinaryHeap(100)\n",
    "    for i in range(smallHeapCount, len(sortedNumbers)):\n",
    "        smallHeap.insert(sortedNumbers[i])\n",
    "    print(smallHeap)\n",
    "    print(bigHeap.data[1])\n",
    "\n",
    "    changeHeap(417, bigHeap, smallHeap)\n",
    "    changeHeap(418, bigHeap, smallHeap)\n",
    "    print('length', bigHeap.length)\n",
    "    print('length', smallHeap.length)\n",
    "    if bigHeap.length > smallHeap.length + 2:\n",
    "        topElement = bigHeap.deleteMax()\n",
    "        print(topElement,'delete')\n",
    "        print('top',bigHeap)\n",
    "        smallHeap.insert(topElement)\n",
    "    elif smallHeap.length > bigHeap.length + 2:\n",
    "        topElement = smallHeap.deleteMax()\n",
    "        print(topElement,'delete1')\n",
    "        print('top',smallHeap)\n",
    "        bigHeap.insert(topElement)\n",
    "        \n",
    "    print(bigHeap)\n",
    "    print(smallHeap)\n",
    "    print(bigHeap.data[1])\n",
    "    \n",
    "def changeHeap(newElement, bigHeap, smallHeap):\n",
    "    maxNumber = bigHeap.data[1]\n",
    "    if (newElement < maxNumber):\n",
    "        bigHeap.insert(newElement)\n",
    "    else:\n",
    "        bigHeap.insert(newElement)\n",
    "    \n",
    "if __name__ == '__main__':\n",
    "    \n",
    "    getMiddleNumber(randomNumbers(100))"
   ]
  },
  {
   "cell_type": "code",
   "execution_count": null,
   "metadata": {},
   "outputs": [],
   "source": []
  }
 ],
 "metadata": {
  "kernelspec": {
   "display_name": "Python 3",
   "language": "python",
   "name": "python3"
  },
  "language_info": {
   "codemirror_mode": {
    "name": "ipython",
    "version": 3
   },
   "file_extension": ".py",
   "mimetype": "text/x-python",
   "name": "python",
   "nbconvert_exporter": "python",
   "pygments_lexer": "ipython3",
   "version": "3.7.2"
  }
 },
 "nbformat": 4,
 "nbformat_minor": 2
}

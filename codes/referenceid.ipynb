{
 "cells": [
  {
   "cell_type": "code",
   "execution_count": 12,
   "metadata": {},
   "outputs": [
    {
     "name": "stdout",
     "output_type": "stream",
     "text": [
      "G\n",
      "F\n"
     ]
    }
   ],
   "source": [
    "refernceTable = {'A':'B', 'B':'C', 'C':'D', 'D':'E', 'E':'F', 'F':'None', 'G':'H', 'H':'I', 'I':'G'}\n",
    "\n",
    "uniqueReferenceId = set()\n",
    "def findRootReferenceId(inId):\n",
    "    referenceId = refernceTable.get(inId)\n",
    "    if referenceId == 'None':\n",
    "        return inId\n",
    "    \n",
    "    if referenceId in uniqueReferenceId:\n",
    "        return inId\n",
    "    \n",
    "    uniqueReferenceId.add(referenceId)\n",
    "    return findRootReferenceId(referenceId)\n",
    "\n",
    "print(findRootReferenceId('G'))\n",
    "print(findRootReferenceId('A'))"
   ]
  },
  {
   "cell_type": "code",
   "execution_count": null,
   "metadata": {},
   "outputs": [],
   "source": []
  }
 ],
 "metadata": {
  "kernelspec": {
   "display_name": "Python 3",
   "language": "python",
   "name": "python3"
  },
  "language_info": {
   "codemirror_mode": {
    "name": "ipython",
    "version": 3
   },
   "file_extension": ".py",
   "mimetype": "text/x-python",
   "name": "python",
   "nbconvert_exporter": "python",
   "pygments_lexer": "ipython3",
   "version": "3.7.2"
  }
 },
 "nbformat": 4,
 "nbformat_minor": 2
}

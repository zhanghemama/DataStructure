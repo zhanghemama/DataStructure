{
 "cells": [
  {
   "cell_type": "code",
   "execution_count": 4,
   "metadata": {},
   "outputs": [
    {
     "name": "stdout",
     "output_type": "stream",
     "text": [
      "<__main__.FilePiece object at 0x10d8cf4e0>\n",
      "<__main__.FilePiece object at 0x10d8cf4a8>\n",
      "<__main__.FilePiece object at 0x10d75db00>\n"
     ]
    }
   ],
   "source": [
    "from customHeap import CustomBinaryHeap\n",
    "from customHeap import HeapNode\n",
    "from typing import Optional\n",
    "\n",
    "class FilePiece():\n",
    "    def __init__(self, filePath):\n",
    "        self.file = open(filePath, mode='r', encoding='utf-8')\n",
    "        self.isFinished = False\n",
    "\n",
    "    def readLine(self):\n",
    "        if self.isFinished:\n",
    "            self.file.close()\n",
    "            return \"\"\n",
    "        line = self.file.readline()\n",
    "        self.isFinished = (line == \"\")\n",
    "        return line\n",
    "            \n",
    "\n",
    "class MergeSmallFile():\n",
    "    CAPABILITY = 100\n",
    "    def __init__(self,smallFiles:list, outFile):\n",
    "        if len(smallFiles) > MergeSmallFile.CAPABILITY:\n",
    "            return\n",
    "        \n",
    "        self.fileStreams = [None]*MergeSmallFile.CAPABILITY\n",
    "        self.files = smallFiles\n",
    "        self.outFile = outFile\n",
    "        CustomBinaryHeap.HEAPTYPE = '>'\n",
    "        self.smallHeap = CustomBinaryHeap(MergeSmallFile.CAPABILITY)\n",
    "        \n",
    "    def prepareFileStream(self):\n",
    "        for index, filePath in enumerate(self.files):\n",
    "            filePiece = FilePiece(filePath)\n",
    "            print(filePiece)\n",
    "            self.fileStreams[index] = filePiece\n",
    "        self.outFileStream = open(self.outFile, mode='w', encoding='utf-8')\n",
    "            \n",
    "        for index, fileStream in enumerate(self.fileStreams):\n",
    "            if fileStream is None:\n",
    "                break\n",
    "            line = fileStream.readLine()\n",
    "            if line != \"\":\n",
    "                self.smallHeap.insert(HeapNode(line, index))\n",
    "                \n",
    "    def readNext(self,index):\n",
    "        return self.fileStreams[index].readLine()\n",
    "        \n",
    "    def merge(self):\n",
    "        self.prepareFileStream()\n",
    "        \n",
    "        while True:\n",
    "            smallest = self.smallHeap.deleteMax()\n",
    "            if smallest is None:\n",
    "                break\n",
    "                \n",
    "            if smallest.data != \"\":\n",
    "                self.outFileStream.writelines(smallest.data)\n",
    "            newLine = self.readNext(smallest.index)\n",
    "            if newLine != \"\":\n",
    "                self.smallHeap.insert(HeapNode(newLine, smallest.index))\n",
    "        self.outFileStream.close()\n",
    "            \n",
    "            \n",
    "            \n",
    "if __name__ == '__main__':\n",
    "    fileList = ['./phoneNumbers1.txt','./phoneNumbers2.txt','./phoneNumbers3.txt']\n",
    "    fileList2 = ['./sortedphone1.txt','./sortedphone2.txt','./sortedphone3.txt']\n",
    "    outPath = './outputPhoneNumber.txt'\n",
    "    outPath2 = './output2.txt'\n",
    "    merger = MergeSmallFile(fileList2,outPath2)\n",
    "    \n",
    "    merger.merge()\n",
    "    "
   ]
  },
  {
   "cell_type": "code",
   "execution_count": null,
   "metadata": {},
   "outputs": [],
   "source": []
  },
  {
   "cell_type": "code",
   "execution_count": null,
   "metadata": {},
   "outputs": [],
   "source": []
  },
  {
   "cell_type": "code",
   "execution_count": null,
   "metadata": {},
   "outputs": [],
   "source": []
  }
 ],
 "metadata": {
  "kernelspec": {
   "display_name": "Python 3",
   "language": "python",
   "name": "python3"
  },
  "language_info": {
   "codemirror_mode": {
    "name": "ipython",
    "version": 3
   },
   "file_extension": ".py",
   "mimetype": "text/x-python",
   "name": "python",
   "nbconvert_exporter": "python",
   "pygments_lexer": "ipython3",
   "version": "3.7.2"
  }
 },
 "nbformat": 4,
 "nbformat_minor": 2
}

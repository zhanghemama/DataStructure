{
 "cells": [
  {
   "cell_type": "code",
   "execution_count": 33,
   "metadata": {},
   "outputs": [
    {
     "name": "stdout",
     "output_type": "stream",
     "text": [
      "[1, 2, 3, 4, 5, 6, 7, 8, 8, 9, 10]\n"
     ]
    }
   ],
   "source": [
    "# def merge(inList, p, q, r):\n",
    "#     tmp = []\n",
    "#     #列表右包含\n",
    "#     leftList = inList[p:q+1]\n",
    "#     rightList = inList[q+1:r+1]\n",
    "#     leftCount = len(leftList)\n",
    "#     rightCount = len(rightList)\n",
    "    \n",
    "#     i = 0\n",
    "#     j = 0\n",
    "#     while i < leftCount or j < rightCount:\n",
    "#         if  j == rightCount or (i < leftCount and leftList[i] < rightList[j]):\n",
    "#             tmp.append(leftList[i])\n",
    "#             i = i + 1\n",
    "#         else:\n",
    "#             tmp.append(rightList[j])\n",
    "#             j = j + 1\n",
    "      \n",
    "#     inList[p:r+1] = tmp\n",
    "# #     for i in range(r-p+1):\n",
    "# #         inList[p+i] = tmp[i]\n",
    "\n",
    "def merge(inList, p, q, r):\n",
    "    tmp = []\n",
    "\n",
    "    i = p\n",
    "    j = q + 1\n",
    "    while i < q + 1 or j < r + 1:\n",
    "        if j == r + 1 or (i < q + 1 and inList[i] <= inList[j]):\n",
    "            tmp.append(inList[i])\n",
    "            i = i + 1\n",
    "        else:\n",
    "            tmp.append(inList[j])\n",
    "            j = j + 1\n",
    "\n",
    "    inList[p:r+1] = tmp\n",
    "            \n",
    "def mergeSort(inList, p, r):\n",
    "    if p >= r:\n",
    "        return\n",
    "    \n",
    "    q = (int)(p + (r - p) / 2)\n",
    "\n",
    "    mergeSort(inList, p, q)\n",
    "    mergeSort(inList, q + 1, r)\n",
    "    merge(inList, p, q, r)\n",
    "    \n",
    "inList = [4,7,1,3,6,10,2,5,8,8,9]\n",
    "\n",
    "mergeSort(inList, 0, 10)\n",
    "print(inList)\n"
   ]
  },
  {
   "cell_type": "code",
   "execution_count": null,
   "metadata": {},
   "outputs": [],
   "source": []
  },
  {
   "cell_type": "code",
   "execution_count": null,
   "metadata": {},
   "outputs": [],
   "source": []
  }
 ],
 "metadata": {
  "kernelspec": {
   "display_name": "Python 3",
   "language": "python",
   "name": "python3"
  },
  "language_info": {
   "codemirror_mode": {
    "name": "ipython",
    "version": 3
   },
   "file_extension": ".py",
   "mimetype": "text/x-python",
   "name": "python",
   "nbconvert_exporter": "python",
   "pygments_lexer": "ipython3",
   "version": "3.7.2"
  }
 },
 "nbformat": 4,
 "nbformat_minor": 2
}
